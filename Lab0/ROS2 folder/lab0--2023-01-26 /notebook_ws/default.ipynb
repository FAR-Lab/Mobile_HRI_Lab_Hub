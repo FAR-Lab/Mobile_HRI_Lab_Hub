{
 "cells": [
  {
   "cell_type": "markdown",
   "metadata": {},
   "source": [
    "## README\n",
    "\n",
    "This is your ROSJect documentation!\n",
    "\n",
    "A place to present your ROS Project to the world!\n",
    "\n",
    "How to customize it:\n",
    "\n",
    "- Open your ROSJect\n",
    "\n",
    "- Edit the default jupyter notebook file (**/home/user/notebook_ws/default.ipynb**)\n",
    "\n",
    "- Close or wait for it to be saved automatically\n",
    "\n",
    "- Your **Readme** will be updated based on your notebook"
   ]
  },
  {
   "cell_type": "code",
   "execution_count": 1,
   "metadata": {},
   "outputs": [
    {
     "name": "stdout",
     "output_type": "stream",
     "text": [
      "Hello from my ROSJect!\n"
     ]
    }
   ],
   "source": [
    "print('Hello from my ROSJect!')"
   ]
  }
 ],
 "metadata": {
  "kernelspec": {
   "display_name": "Python 2",
   "language": "python",
   "name": "python2"
  },
  "language_info": {
   "codemirror_mode": {
    "name": "ipython",
    "version": 2
   },
   "file_extension": ".py",
   "mimetype": "text/x-python",
   "name": "python",
   "nbconvert_exporter": "python",
   "pygments_lexer": "ipython2",
   "version": "2.7.16"
  }
 },
 "nbformat": 4,
 "nbformat_minor": 1
}
